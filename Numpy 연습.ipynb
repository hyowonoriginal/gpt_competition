{
 "cells": [
  {
   "cell_type": "code",
   "execution_count": 40,
   "id": "77052e43",
   "metadata": {},
   "outputs": [],
   "source": [
    "import numpy as np"
   ]
  },
  {
   "cell_type": "code",
   "execution_count": 2,
   "id": "044ca115",
   "metadata": {},
   "outputs": [],
   "source": [
    "array1 = numpy.array([2, 3, 5, 7, 11, 13, 17])"
   ]
  },
  {
   "cell_type": "code",
   "execution_count": 3,
   "id": "a6857e96",
   "metadata": {},
   "outputs": [
    {
     "data": {
      "text/plain": [
       "array([ 2,  3,  5,  7, 11, 13, 17])"
      ]
     },
     "execution_count": 3,
     "metadata": {},
     "output_type": "execute_result"
    }
   ],
   "source": [
    "array1"
   ]
  },
  {
   "cell_type": "code",
   "execution_count": 4,
   "id": "45985914",
   "metadata": {},
   "outputs": [
    {
     "data": {
      "text/plain": [
       "numpy.ndarray"
      ]
     },
     "execution_count": 4,
     "metadata": {},
     "output_type": "execute_result"
    }
   ],
   "source": [
    "type(array1)"
   ]
  },
  {
   "cell_type": "markdown",
   "id": "4171d2ce",
   "metadata": {},
   "source": [
    "numpy의 ndarray"
   ]
  },
  {
   "cell_type": "code",
   "execution_count": 11,
   "id": "2f96df15",
   "metadata": {},
   "outputs": [
    {
     "data": {
      "text/plain": [
       "(7,)"
      ]
     },
     "execution_count": 11,
     "metadata": {},
     "output_type": "execute_result"
    }
   ],
   "source": [
    "array1.shape"
   ]
  },
  {
   "cell_type": "code",
   "execution_count": 13,
   "id": "c7c5a0c8",
   "metadata": {},
   "outputs": [
    {
     "data": {
      "text/plain": [
       "7"
      ]
     },
     "execution_count": 13,
     "metadata": {},
     "output_type": "execute_result"
    }
   ],
   "source": [
    "array1.size"
   ]
  },
  {
   "cell_type": "markdown",
   "id": "38436eb3",
   "metadata": {},
   "source": [
    "size shows #/factors"
   ]
  },
  {
   "cell_type": "code",
   "execution_count": 8,
   "id": "0cb070d4",
   "metadata": {},
   "outputs": [],
   "source": [
    "array2 = numpy.array([[1, 2, 3, 4], [5, 6, 7, 8]])"
   ]
  },
  {
   "cell_type": "code",
   "execution_count": 9,
   "id": "261587fb",
   "metadata": {},
   "outputs": [
    {
     "data": {
      "text/plain": [
       "array([[1, 2, 3, 4],\n",
       "       [5, 6, 7, 8]])"
      ]
     },
     "execution_count": 9,
     "metadata": {},
     "output_type": "execute_result"
    }
   ],
   "source": [
    "array2"
   ]
  },
  {
   "cell_type": "code",
   "execution_count": 10,
   "id": "f65bd9f3",
   "metadata": {},
   "outputs": [
    {
     "data": {
      "text/plain": [
       "(2, 4)"
      ]
     },
     "execution_count": 10,
     "metadata": {},
     "output_type": "execute_result"
    }
   ],
   "source": [
    "array2.shape"
   ]
  },
  {
   "cell_type": "markdown",
   "id": "3b0b1369",
   "metadata": {},
   "source": [
    "#/rows = 2, #/columns = 4\n",
    "\n",
    "nd means n-dimensional"
   ]
  },
  {
   "cell_type": "markdown",
   "id": "35451872",
   "metadata": {},
   "source": [
    "# 숫자 리스트 만들기"
   ]
  },
  {
   "cell_type": "markdown",
   "id": "ec4b351a",
   "metadata": {},
   "source": [
    "## 일반 숫자"
   ]
  },
  {
   "cell_type": "code",
   "execution_count": 16,
   "id": "3d70dd99",
   "metadata": {},
   "outputs": [],
   "source": [
    "array1 = numpy.full(6, 7)"
   ]
  },
  {
   "cell_type": "markdown",
   "id": "10f82c3a",
   "metadata": {},
   "source": [
    "6개의 7"
   ]
  },
  {
   "cell_type": "code",
   "execution_count": 23,
   "id": "ee76d8f8",
   "metadata": {},
   "outputs": [
    {
     "name": "stdout",
     "output_type": "stream",
     "text": [
      "[1 1 1 1 1 1]\n"
     ]
    }
   ],
   "source": [
    "print(array1)"
   ]
  },
  {
   "cell_type": "markdown",
   "id": "ff3c7e25",
   "metadata": {},
   "source": [
    "## 0으로 채우기, 1로 채우기"
   ]
  },
  {
   "cell_type": "code",
   "execution_count": 24,
   "id": "f41eefeb",
   "metadata": {},
   "outputs": [],
   "source": [
    "array1 = numpy.full(6, 0)"
   ]
  },
  {
   "cell_type": "code",
   "execution_count": 25,
   "id": "e98786e4",
   "metadata": {},
   "outputs": [],
   "source": [
    "array2 = numpy.zeros(6, dtype = int)"
   ]
  },
  {
   "cell_type": "code",
   "execution_count": 26,
   "id": "c732dcfa",
   "metadata": {},
   "outputs": [
    {
     "name": "stdout",
     "output_type": "stream",
     "text": [
      "[0 0 0 0 0 0]\n",
      "\n",
      "[0 0 0 0 0 0]\n"
     ]
    }
   ],
   "source": [
    "print(array1)\n",
    "print()\n",
    "print(array2)"
   ]
  },
  {
   "cell_type": "code",
   "execution_count": 27,
   "id": "570ae3a7",
   "metadata": {},
   "outputs": [
    {
     "name": "stdout",
     "output_type": "stream",
     "text": [
      "[1 1 1 1 1 1]\n",
      "[1 1 1 1 1 1]\n"
     ]
    }
   ],
   "source": [
    "array1 = numpy.full(6, 1)\n",
    "print(array1)\n",
    "array2 = numpy.ones(6, dtype = int)\n",
    "print(array2)"
   ]
  },
  {
   "cell_type": "markdown",
   "id": "e33bdbbf",
   "metadata": {},
   "source": [
    "## 랜덤한 값으로 채우기"
   ]
  },
  {
   "cell_type": "code",
   "execution_count": 29,
   "id": "916b5d13",
   "metadata": {},
   "outputs": [
    {
     "name": "stdout",
     "output_type": "stream",
     "text": [
      "[0.01896488 0.37693886 0.92527158 0.86278934 0.69552894 0.16145351]\n"
     ]
    }
   ],
   "source": [
    "array1 = numpy.random.random(6)\n",
    "\n",
    "print(array1)"
   ]
  },
  {
   "cell_type": "markdown",
   "id": "66c7d39e",
   "metadata": {},
   "source": [
    "## 연속된 값으로 채우기"
   ]
  },
  {
   "cell_type": "code",
   "execution_count": 31,
   "id": "c0779d93",
   "metadata": {},
   "outputs": [
    {
     "name": "stdout",
     "output_type": "stream",
     "text": [
      "[0 1 2 3 4 5]\n"
     ]
    }
   ],
   "source": [
    "array1 = numpy.arange(6)\n",
    "print(array1)"
   ]
  },
  {
   "cell_type": "code",
   "execution_count": 33,
   "id": "6d341319",
   "metadata": {},
   "outputs": [
    {
     "name": "stdout",
     "output_type": "stream",
     "text": [
      "[2 3 4 5 6]\n"
     ]
    }
   ],
   "source": [
    "array2 = numpy.arange(2, 7)\n",
    "print(array2)"
   ]
  },
  {
   "cell_type": "code",
   "execution_count": 50,
   "id": "0c3eef87",
   "metadata": {},
   "outputs": [
    {
     "name": "stdout",
     "output_type": "stream",
     "text": [
      "[ 2  4  6  8 10 12 14 16 18]\n"
     ]
    }
   ],
   "source": [
    "array3 = numpy.arange(2, 20, 2)\n",
    "print(array3)"
   ]
  },
  {
   "cell_type": "markdown",
   "id": "58114f0d",
   "metadata": {},
   "source": [
    "# array 슬라이싱과 인덱싱"
   ]
  },
  {
   "cell_type": "markdown",
   "id": "5cd4c0d9",
   "metadata": {},
   "source": [
    "## array 인덱싱"
   ]
  },
  {
   "cell_type": "code",
   "execution_count": 36,
   "id": "f975c4fb",
   "metadata": {},
   "outputs": [
    {
     "data": {
      "text/plain": [
       "2"
      ]
     },
     "execution_count": 36,
     "metadata": {},
     "output_type": "execute_result"
    }
   ],
   "source": [
    "array3[0]"
   ]
  },
  {
   "cell_type": "code",
   "execution_count": 37,
   "id": "3ce41149",
   "metadata": {},
   "outputs": [
    {
     "data": {
      "text/plain": [
       "18"
      ]
     },
     "execution_count": 37,
     "metadata": {},
     "output_type": "execute_result"
    }
   ],
   "source": [
    "array3[-1]"
   ]
  },
  {
   "cell_type": "code",
   "execution_count": 38,
   "id": "bf333930",
   "metadata": {},
   "outputs": [
    {
     "data": {
      "text/plain": [
       "array([ 6, 12, 16])"
      ]
     },
     "execution_count": 38,
     "metadata": {},
     "output_type": "execute_result"
    }
   ],
   "source": [
    "array3[[2, 5, 7]]"
   ]
  },
  {
   "cell_type": "code",
   "execution_count": 41,
   "id": "deb94a0b",
   "metadata": {},
   "outputs": [],
   "source": [
    "array2 = np.array([2, 5, 7])"
   ]
  },
  {
   "cell_type": "code",
   "execution_count": 51,
   "id": "4606ca0c",
   "metadata": {},
   "outputs": [
    {
     "data": {
      "text/plain": [
       "array([ 6, 12, 16])"
      ]
     },
     "execution_count": 51,
     "metadata": {},
     "output_type": "execute_result"
    }
   ],
   "source": [
    "array3[array2]"
   ]
  },
  {
   "cell_type": "markdown",
   "id": "03dbeb54",
   "metadata": {},
   "source": [
    "## array 슬라이싱"
   ]
  },
  {
   "cell_type": "code",
   "execution_count": 43,
   "id": "c9512552",
   "metadata": {},
   "outputs": [
    {
     "data": {
      "text/plain": [
       "array([ 6,  8, 10, 12, 14])"
      ]
     },
     "execution_count": 43,
     "metadata": {},
     "output_type": "execute_result"
    }
   ],
   "source": [
    "array3[2:7]"
   ]
  },
  {
   "cell_type": "code",
   "execution_count": 48,
   "id": "57ce518c",
   "metadata": {},
   "outputs": [
    {
     "data": {
      "text/plain": [
       "array([ 6,  8, 10, 12, 14, 16, 18])"
      ]
     },
     "execution_count": 48,
     "metadata": {},
     "output_type": "execute_result"
    }
   ],
   "source": [
    "array3[:3]"
   ]
  },
  {
   "cell_type": "code",
   "execution_count": 49,
   "id": "dc0bed03",
   "metadata": {},
   "outputs": [
    {
     "data": {
      "text/plain": [
       "array([ 6,  8, 10, 12, 14, 16, 18])"
      ]
     },
     "execution_count": 49,
     "metadata": {},
     "output_type": "execute_result"
    }
   ],
   "source": [
    "array3[2:]"
   ]
  },
  {
   "cell_type": "code",
   "execution_count": 46,
   "id": "c36c3c05",
   "metadata": {},
   "outputs": [
    {
     "data": {
      "text/plain": [
       "array([ 6, 10, 14, 18])"
      ]
     },
     "execution_count": 46,
     "metadata": {},
     "output_type": "execute_result"
    }
   ],
   "source": [
    "array3[2:11:2]"
   ]
  },
  {
   "cell_type": "markdown",
   "id": "b88a68f0",
   "metadata": {},
   "source": [
    "# numpy 기본연산"
   ]
  },
  {
   "cell_type": "code",
   "execution_count": 52,
   "id": "8ee6d2ca",
   "metadata": {},
   "outputs": [
    {
     "data": {
      "text/plain": [
       "array([ 4,  8, 12, 16, 20, 24, 28, 32, 36])"
      ]
     },
     "execution_count": 52,
     "metadata": {},
     "output_type": "execute_result"
    }
   ],
   "source": [
    "array3 * 2"
   ]
  },
  {
   "cell_type": "code",
   "execution_count": 53,
   "id": "91addf30",
   "metadata": {},
   "outputs": [
    {
     "data": {
      "text/plain": [
       "array([1., 2., 3., 4., 5., 6., 7., 8., 9.])"
      ]
     },
     "execution_count": 53,
     "metadata": {},
     "output_type": "execute_result"
    }
   ],
   "source": [
    "array3 / 2"
   ]
  },
  {
   "cell_type": "code",
   "execution_count": 54,
   "id": "c06a1c86",
   "metadata": {},
   "outputs": [
    {
     "data": {
      "text/plain": [
       "array([ 4,  6,  8, 10, 12, 14, 16, 18, 20])"
      ]
     },
     "execution_count": 54,
     "metadata": {},
     "output_type": "execute_result"
    }
   ],
   "source": [
    "array3 + 2"
   ]
  },
  {
   "cell_type": "code",
   "execution_count": 58,
   "id": "c912fb10",
   "metadata": {},
   "outputs": [
    {
     "data": {
      "text/plain": [
       "array([11, 13, 15, 17, 19, 21, 23, 25, 27])"
      ]
     },
     "execution_count": 58,
     "metadata": {},
     "output_type": "execute_result"
    }
   ],
   "source": [
    "array4 = array3 + 3"
   ]
  },
  {
   "cell_type": "code",
   "execution_count": 59,
   "id": "dd7609a7",
   "metadata": {},
   "outputs": [
    {
     "data": {
      "text/plain": [
       "array([25, 29, 33, 37, 41, 45, 49, 53, 57])"
      ]
     },
     "execution_count": 59,
     "metadata": {},
     "output_type": "execute_result"
    }
   ],
   "source": [
    "array3 + array4"
   ]
  },
  {
   "cell_type": "code",
   "execution_count": 61,
   "id": "814833fb",
   "metadata": {},
   "outputs": [
    {
     "data": {
      "text/plain": [
       "array([0.78571429, 0.8125    , 0.83333333, 0.85      , 0.86363636,\n",
       "       0.875     , 0.88461538, 0.89285714, 0.9       ])"
      ]
     },
     "execution_count": 61,
     "metadata": {},
     "output_type": "execute_result"
    }
   ],
   "source": [
    "array3 / array4"
   ]
  },
  {
   "cell_type": "markdown",
   "id": "e00158ad",
   "metadata": {},
   "source": [
    "## numpy 불린 연산"
   ]
  },
  {
   "cell_type": "code",
   "execution_count": 62,
   "id": "a08ed280",
   "metadata": {},
   "outputs": [
    {
     "data": {
      "text/plain": [
       "array([False, False, False, False, False, False, False, False, False])"
      ]
     },
     "execution_count": 62,
     "metadata": {},
     "output_type": "execute_result"
    }
   ],
   "source": [
    "array3 < 5"
   ]
  },
  {
   "cell_type": "code",
   "execution_count": 64,
   "id": "98436d96",
   "metadata": {},
   "outputs": [
    {
     "data": {
      "text/plain": [
       "array([False, False,  True, False, False,  True, False, False,  True])"
      ]
     },
     "execution_count": 64,
     "metadata": {},
     "output_type": "execute_result"
    }
   ],
   "source": [
    "array3 % 3 == 0"
   ]
  },
  {
   "cell_type": "code",
   "execution_count": 67,
   "id": "31657cf0",
   "metadata": {},
   "outputs": [],
   "source": [
    "booleans = np.array([False, False, True, False, False, True, False, False, True])"
   ]
  },
  {
   "cell_type": "code",
   "execution_count": 68,
   "id": "c05825f9",
   "metadata": {},
   "outputs": [
    {
     "data": {
      "text/plain": [
       "(array([2, 5, 8], dtype=int64),)"
      ]
     },
     "execution_count": 68,
     "metadata": {},
     "output_type": "execute_result"
    }
   ],
   "source": [
    "np.where(booleans)"
   ]
  },
  {
   "cell_type": "markdown",
   "id": "8e681090",
   "metadata": {},
   "source": [
    "True값이 되는 index를 찾아준다"
   ]
  },
  {
   "cell_type": "code",
   "execution_count": 71,
   "id": "096c4ef4",
   "metadata": {},
   "outputs": [],
   "source": [
    "filter = np.where(array3 % 3 == 0)"
   ]
  },
  {
   "cell_type": "code",
   "execution_count": 72,
   "id": "3f079d4c",
   "metadata": {},
   "outputs": [
    {
     "data": {
      "text/plain": [
       "array([15, 21, 27])"
      ]
     },
     "execution_count": 72,
     "metadata": {},
     "output_type": "execute_result"
    }
   ],
   "source": [
    "array3[filter]"
   ]
  },
  {
   "cell_type": "markdown",
   "id": "4264c944",
   "metadata": {},
   "source": [
    "3으로 나누어지는 것들만 filter함"
   ]
  },
  {
   "cell_type": "markdown",
   "id": "28d1cbb8",
   "metadata": {},
   "source": [
    "# 통계"
   ]
  },
  {
   "cell_type": "markdown",
   "id": "2dfedc44",
   "metadata": {},
   "source": [
    "## 최댓값과 최솟값"
   ]
  },
  {
   "cell_type": "code",
   "execution_count": 73,
   "id": "df57d60c",
   "metadata": {},
   "outputs": [
    {
     "name": "stdout",
     "output_type": "stream",
     "text": [
      "27\n",
      "11\n"
     ]
    }
   ],
   "source": [
    "print(array3.max())\n",
    "print(array3.min())"
   ]
  },
  {
   "cell_type": "markdown",
   "id": "8f4506d1",
   "metadata": {},
   "source": [
    "## 평균값"
   ]
  },
  {
   "cell_type": "code",
   "execution_count": 74,
   "id": "dbd450be",
   "metadata": {},
   "outputs": [
    {
     "name": "stdout",
     "output_type": "stream",
     "text": [
      "19.0\n"
     ]
    }
   ],
   "source": [
    "print(array3.mean())"
   ]
  },
  {
   "cell_type": "markdown",
   "id": "14ff95bb",
   "metadata": {},
   "source": [
    "## 중앙값 (은 numpy의 메소드)"
   ]
  },
  {
   "cell_type": "code",
   "execution_count": 75,
   "id": "1de4a5a0",
   "metadata": {},
   "outputs": [
    {
     "name": "stdout",
     "output_type": "stream",
     "text": [
      "19.0\n"
     ]
    }
   ],
   "source": [
    "print(np.median(array3)) "
   ]
  },
  {
   "cell_type": "markdown",
   "id": "5d59b77a",
   "metadata": {},
   "source": [
    "## 표준편차와 분산"
   ]
  },
  {
   "cell_type": "code",
   "execution_count": 76,
   "id": "09f35674",
   "metadata": {},
   "outputs": [
    {
     "name": "stdout",
     "output_type": "stream",
     "text": [
      "5.163977794943222\n",
      "26.666666666666668\n"
     ]
    }
   ],
   "source": [
    "print(array3.std())\n",
    "print(array3.var())"
   ]
  }
 ],
 "metadata": {
  "kernelspec": {
   "display_name": "Python 3 (ipykernel)",
   "language": "python",
   "name": "python3"
  },
  "language_info": {
   "codemirror_mode": {
    "name": "ipython",
    "version": 3
   },
   "file_extension": ".py",
   "mimetype": "text/x-python",
   "name": "python",
   "nbconvert_exporter": "python",
   "pygments_lexer": "ipython3",
   "version": "3.9.7"
  }
 },
 "nbformat": 4,
 "nbformat_minor": 5
}
